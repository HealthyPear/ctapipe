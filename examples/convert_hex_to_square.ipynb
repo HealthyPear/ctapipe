{
 "cells": [
  {
   "cell_type": "markdown",
   "metadata": {},
   "source": [
    "# Convert hexagonal cameras into square grid and back"
   ]
  },
  {
   "cell_type": "code",
   "execution_count": 1,
   "metadata": {
    "execution": {
     "iopub.execute_input": "2021-01-30T20:59:33.669237Z",
     "iopub.status.busy": "2021-01-30T20:59:33.668243Z",
     "iopub.status.idle": "2021-01-30T20:59:35.360212Z",
     "shell.execute_reply": "2021-01-30T20:59:35.359073Z"
    }
   },
   "outputs": [
    {
     "name": "stderr",
     "output_type": "stream",
     "text": [
      "/usr/local/lib/python3.8/site-packages/setuptools_scm/git.py:68: UserWarning: \"/github/workspace\" is shallow and may cause errors\n",
      "  warnings.warn('\"{}\" is shallow and may cause errors'.format(wd.path))\n"
     ]
    }
   ],
   "source": [
    "from ctapipe.utils import get_dataset_path\n",
    "from ctapipe.image.geometry_converter import convert_geometry_hex1d_to_rect2d, convert_geometry_rect2d_back_to_hexe1d\n",
    "from ctapipe.visualization import CameraDisplay\n",
    "from ctapipe.io import EventSource\n",
    "import copy\n",
    "import matplotlib.pyplot as plt"
   ]
  },
  {
   "cell_type": "markdown",
   "metadata": {},
   "source": [
    "## Setup"
   ]
  },
  {
   "cell_type": "code",
   "execution_count": 2,
   "metadata": {
    "execution": {
     "iopub.execute_input": "2021-01-30T20:59:35.365722Z",
     "iopub.status.busy": "2021-01-30T20:59:35.364809Z",
     "iopub.status.idle": "2021-01-30T20:59:35.368594Z",
     "shell.execute_reply": "2021-01-30T20:59:35.368140Z"
    }
   },
   "outputs": [],
   "source": [
    "filename = get_dataset_path('gamma_test_large.simtel.gz')"
   ]
  },
  {
   "cell_type": "code",
   "execution_count": 3,
   "metadata": {
    "execution": {
     "iopub.execute_input": "2021-01-30T20:59:35.373144Z",
     "iopub.status.busy": "2021-01-30T20:59:35.372150Z",
     "iopub.status.idle": "2021-01-30T20:59:37.556008Z",
     "shell.execute_reply": "2021-01-30T20:59:37.555176Z"
    }
   },
   "outputs": [],
   "source": [
    "source = EventSource(filename, max_events=10, allowed_tels={1})"
   ]
  },
  {
   "cell_type": "code",
   "execution_count": 4,
   "metadata": {
    "execution": {
     "iopub.execute_input": "2021-01-30T20:59:37.578985Z",
     "iopub.status.busy": "2021-01-30T20:59:37.578029Z",
     "iopub.status.idle": "2021-01-30T20:59:40.153086Z",
     "shell.execute_reply": "2021-01-30T20:59:40.152527Z"
    }
   },
   "outputs": [],
   "source": [
    "events = [copy.deepcopy(event) for event in source]"
   ]
  },
  {
   "cell_type": "code",
   "execution_count": 5,
   "metadata": {
    "execution": {
     "iopub.execute_input": "2021-01-30T20:59:40.157792Z",
     "iopub.status.busy": "2021-01-30T20:59:40.157246Z",
     "iopub.status.idle": "2021-01-30T20:59:40.161000Z",
     "shell.execute_reply": "2021-01-30T20:59:40.160494Z"
    }
   },
   "outputs": [],
   "source": [
    "event = events[0]"
   ]
  },
  {
   "cell_type": "code",
   "execution_count": 6,
   "metadata": {
    "execution": {
     "iopub.execute_input": "2021-01-30T20:59:40.205046Z",
     "iopub.status.busy": "2021-01-30T20:59:40.178258Z",
     "iopub.status.idle": "2021-01-30T20:59:40.522263Z",
     "shell.execute_reply": "2021-01-30T20:59:40.522699Z"
    }
   },
   "outputs": [
    {
     "data": {
      "text/plain": [
       "<ctapipe.visualization.mpl_camera.CameraDisplay at 0x7f9cc0a8e1f0>"
      ]
     },
     "execution_count": 1,
     "metadata": {},
     "output_type": "execute_result"
    }
   ],
   "source": [
    "geometry = source.subarray.tel[1].camera.geometry\n",
    "image = event.r0.tel[1].waveform[0].sum(axis=1)\n",
    "CameraDisplay(geometry, image)"
   ]
  },
  {
   "cell_type": "markdown",
   "metadata": {},
   "source": [
    "## Conversion into square geometry"
   ]
  },
  {
   "cell_type": "markdown",
   "metadata": {},
   "source": [
    "**A key must be speficied to be able to convert back to hexagonal afterwards**   \n",
    "The conversion geometry is stored in `ctapipe.image.geometry_convert.rot_buffer`"
   ]
  },
  {
   "cell_type": "code",
   "execution_count": 7,
   "metadata": {
    "execution": {
     "iopub.execute_input": "2021-01-30T20:59:40.529484Z",
     "iopub.status.busy": "2021-01-30T20:59:40.528932Z",
     "iopub.status.idle": "2021-01-30T20:59:40.958259Z",
     "shell.execute_reply": "2021-01-30T20:59:40.957794Z"
    }
   },
   "outputs": [],
   "source": [
    "key = 0\n",
    "square_geom, square_image = convert_geometry_hex1d_to_rect2d(geometry, image, key=key)"
   ]
  },
  {
   "cell_type": "code",
   "execution_count": 8,
   "metadata": {
    "execution": {
     "iopub.execute_input": "2021-01-30T20:59:40.963529Z",
     "iopub.status.busy": "2021-01-30T20:59:40.962994Z",
     "iopub.status.idle": "2021-01-30T20:59:40.968213Z",
     "shell.execute_reply": "2021-01-30T20:59:40.967788Z"
    }
   },
   "outputs": [
    {
     "data": {
      "text/plain": [
       "<matplotlib.image.AxesImage at 0x7f9cc091a4c0>"
      ]
     },
     "execution_count": 1,
     "metadata": {},
     "output_type": "execute_result"
    }
   ],
   "source": [
    "plt.imshow(square_image)"
   ]
  },
  {
   "cell_type": "markdown",
   "metadata": {},
   "source": [
    "## Conversion back to hexagonal geometry"
   ]
  },
  {
   "cell_type": "code",
   "execution_count": 9,
   "metadata": {
    "execution": {
     "iopub.execute_input": "2021-01-30T20:59:40.972474Z",
     "iopub.status.busy": "2021-01-30T20:59:40.971541Z",
     "iopub.status.idle": "2021-01-30T20:59:40.973868Z",
     "shell.execute_reply": "2021-01-30T20:59:40.973425Z"
    }
   },
   "outputs": [],
   "source": [
    "hex_geom, hex_image = convert_geometry_rect2d_back_to_hexe1d(square_geom, square_image, key=key)"
   ]
  },
  {
   "cell_type": "code",
   "execution_count": 10,
   "metadata": {
    "execution": {
     "iopub.execute_input": "2021-01-30T20:59:40.983721Z",
     "iopub.status.busy": "2021-01-30T20:59:40.976651Z",
     "iopub.status.idle": "2021-01-30T20:59:41.428858Z",
     "shell.execute_reply": "2021-01-30T20:59:41.429529Z"
    }
   },
   "outputs": [
    {
     "data": {
      "text/plain": [
       "<ctapipe.visualization.mpl_camera.CameraDisplay at 0x7f9cc07acbe0>"
      ]
     },
     "execution_count": 1,
     "metadata": {},
     "output_type": "execute_result"
    }
   ],
   "source": [
    "CameraDisplay(hex_geom, hex_image)"
   ]
  },
  {
   "cell_type": "markdown",
   "metadata": {},
   "source": [
    "Let's check that the images are exactly the same:"
   ]
  },
  {
   "cell_type": "code",
   "execution_count": 11,
   "metadata": {
    "execution": {
     "iopub.execute_input": "2021-01-30T20:59:41.433813Z",
     "iopub.status.busy": "2021-01-30T20:59:41.433285Z",
     "iopub.status.idle": "2021-01-30T20:59:41.436887Z",
     "shell.execute_reply": "2021-01-30T20:59:41.436383Z"
    }
   },
   "outputs": [],
   "source": [
    "assert (hex_image == image).all()"
   ]
  },
  {
   "cell_type": "code",
   "execution_count": 12,
   "metadata": {
    "execution": {
     "iopub.execute_input": "2021-01-30T20:59:41.441587Z",
     "iopub.status.busy": "2021-01-30T20:59:41.440767Z",
     "iopub.status.idle": "2021-01-30T20:59:41.445571Z",
     "shell.execute_reply": "2021-01-30T20:59:41.445017Z"
    }
   },
   "outputs": [],
   "source": [
    "assert hex_geom == geometry"
   ]
  }
 ],
 "metadata": {
  "kernelspec": {
   "display_name": "Python 3",
   "language": "python",
   "name": "python3"
  },
  "language_info": {
   "codemirror_mode": {
    "name": "ipython",
    "version": 3
   },
   "file_extension": ".py",
   "mimetype": "text/x-python",
   "name": "python",
   "nbconvert_exporter": "python",
   "pygments_lexer": "ipython3",
   "version": "3.8.2"
  }
 },
 "nbformat": 4,
 "nbformat_minor": 2
}
